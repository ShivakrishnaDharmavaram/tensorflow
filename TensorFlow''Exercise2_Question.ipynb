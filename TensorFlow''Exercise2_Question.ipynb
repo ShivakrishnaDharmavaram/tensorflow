"I implemented this on coursera's Jupyter Notebook Platform"

{
  "nbformat": 4,
  "nbformat_minor": 0,
  "metadata": {
    "coursera": {
      "course_slug": "introduction-tensorflow",
      "graded_item_id": "d6dew",
      "launcher_item_id": "FExZ4"
    },
    "kernelspec": {
      "display_name": "Python 3",
      "language": "python",
      "name": "python3"
    },
    "language_info": {
      "codemirror_mode": {
        "name": "ipython",
        "version": 3
      },
      "file_extension": ".py",
      "mimetype": "text/x-python",
      "name": "python",
      "nbconvert_exporter": "python",
      "pygments_lexer": "ipython3",
      "version": "3.6.8"
    },
    "colab": {
      "name": "TensorFlow''Exercise2-Question.ipynb",
      "provenance": [],
      "collapsed_sections": [],
      "include_colab_link": true
    }
  },
  "cells": [
    {
      "cell_type": "markdown",
      "metadata": {
        "id": "view-in-github",
        "colab_type": "text"
      },
      "source": [
        "<a href=\"https://colab.research.google.com/github/ShivakrishnaDharmavaram/tensorflow/blob/master/TensorFlow''Exercise2_Question.ipynb\" target=\"_parent\"><img src=\"https://colab.research.google.com/assets/colab-badge.svg\" alt=\"Open In Colab\"/></a>"
      ]
    },
    {
      "cell_type": "markdown",
      "metadata": {
        "colab_type": "text",
        "id": "tOoyQ70H00_s"
      },
      "source": [
        "## Exercise 2\n",
        "In the course you learned how to do classificaiton using Fashion MNIST, a data set containing items of clothing. There's another, similar dataset called MNIST which has items of handwriting -- the digits 0 through 9.\n",
        "\n",
        "Write an MNIST classifier that trains to 99% accuracy or above, and does it without a fixed number of epochs -- i.e. you should stop training once you reach that level of accuracy.\n",
        "\n",
        "Some notes:\n",
        "1. It should succeed in less than 10 epochs, so it is okay to change epochs= to 10, but nothing larger\n",
        "2. When it reaches 99% or greater it should print out the string \"Reached 99% accuracy so cancelling training!\"\n",
        "3. If you add any additional variables, make sure you use the same names as the ones used in the class\n",
        "\n",
        "I've started the code for you below -- how would you finish it? "
      ]
    },
    {
      "cell_type": "code",
      "metadata": {
        "colab_type": "code",
        "id": "9rvXQGAA0ssC",
        "scrolled": true,
        "colab": {}
      },
      "source": [
        "import tensorflow as tf\n",
        "from os import path, getcwd, chdir\n",
        "\n",
        "# DO NOT CHANGE THE LINE BELOW. If you are developing in a local\n",
        "# environment, then grab mnist.npz from the Coursera Jupyter Notebook\n",
        "# and place it inside a local folder and edit the path to that location\n",
        "path = f\"{getcwd()}/../tmp2/mnist.npz\"\n",
        "class mycallback(tf.keras.callbacks.Callback):\n",
        "  def on_epoch_end(self, epoch, logs={}):\n",
        "    if(logs.get('acc')>0.99):\n",
        "      print(\"\\nReached 99% accuracy so cancelling training!\")\n",
        "      self.model.stop_training = True\n",
        "\n",
        "model = tf.keras.models.Sequential([\n",
        "# YOUR CODE SHOULD START HERE\n",
        "    tf.keras.layers.Flatten(input_shape=(28,28)),\n",
        "    #tf.keras.layers.Dense(1024, activation=tf.nn.relu),\n",
        "    tf.keras.layers.Dense(512, activation=tf.nn.relu),\n",
        "    tf.keras.layers.Dense(10,activation=tf.nn.softmax)])  \n",
        "# YOUR CODE SHOULD END HERE\n",
        "\n",
        "model.compile(optimizer='adam',\n",
        "              loss='sparse_categorical_crossentropy',\n",
        "              metrics=['accuracy'])\n",
        "callbacks=mycallback()\n",
        "\n",
        "# YOUR CODE SHOULD START HERE\n",
        "def train_mnist():\n",
        "    mnist = tf.keras.datasets.mnist\n",
        "    (x_train, y_train),(x_test, y_test) = mnist.load_data()\n",
        "    x_train  = x_train / 255.0,\n",
        "    x_test = x_test / 255.0,\n",
        "    history= model.fit(x_train, y_train, epochs=10, callbacks=[callbacks])\n",
        "    #model.evaluate(x_test, y_test)\n",
        "    return history.epoch,history.history['acc'][-1]\n",
        "# YOUR CODE SHOULD END HERE"
      ],
      "execution_count": null,
      "outputs": []
    },
    {
      "cell_type": "code",
      "metadata": {
        "colab_type": "code",
        "id": "X65zKa0K7mil",
        "colab": {},
        "outputId": "744ca58a-b47e-4979-b2b9-3604b0ade173"
      },
      "source": [
        "train_mnist()"
      ],
      "execution_count": null,
      "outputs": [
        {
          "output_type": "stream",
          "text": [
            "Epoch 1/10\n",
            "60000/60000 [==============================] - 13s 218us/sample - loss: 0.2008 - acc: 0.9404\n",
            "Epoch 2/10\n",
            "60000/60000 [==============================] - 13s 210us/sample - loss: 0.0806 - acc: 0.9748\n",
            "Epoch 3/10\n",
            "60000/60000 [==============================] - 13s 215us/sample - loss: 0.0527 - acc: 0.9832\n",
            "Epoch 4/10\n",
            "60000/60000 [==============================] - 13s 215us/sample - loss: 0.0377 - acc: 0.9880\n",
            "Epoch 5/10\n",
            "59776/60000 [============================>.] - ETA: 0s - loss: 0.0272 - acc: 0.9912\n",
            "Reached 99% accuracy so cancelling training!\n",
            "60000/60000 [==============================] - 13s 218us/sample - loss: 0.0273 - acc: 0.9912\n"
            
            
            
            
          ],
          "name": "stdout"
        },
        {
          "output_type": "execute_result",
          "data": {
            "text/plain": [
              "([0, 1, 2, 3, 4], 0.99121666)"
            ]
          },
          "metadata": {
            "tags": []
          },
          "execution_count": 18
        }
      ]
    }
  ]
}
